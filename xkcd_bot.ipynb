{
 "cells": [
  {
   "cell_type": "code",
   "execution_count": null,
   "metadata": {},
   "outputs": [],
   "source": [
    "# A Reddit bot that posts explanation of xkcd comic strips posted in comments\n",
    "# The explanation is extracted from http://explainxkcd.com\n",
    "\n",
    "from bs4 import BeautifulSoup\n",
    "from urllib.parse import urlparse\n",
    "\n",
    "import praw\n",
    "import time\n",
    "import re\n",
    "import requests\n",
    "import bs4\n",
    "\n",
    "path = '/Users/goran/Documents/python_projects/reddit_bot/commented.txt'\n",
    "# Location of file where id's of already visited comments are maintained\n",
    "\n",
    "header = '**Explanation of this xkcd:**\\n'\n",
    "footer = '\\n*---This explanation was extracted from [explainxkcd](http://www.explainxkcd.com) | Bot created by u/kindw | [Source code](https://github.com/aydwi/explainxkcdbot)*'\n",
    "# Text to be posted along with comic description"
   ]
  },
  {
   "cell_type": "code",
   "execution_count": null,
   "metadata": {
    "collapsed": true
   },
   "outputs": [],
   "source": [
    "def authenticate():\n",
    "    print('Authenticating...\\n')\n",
    "    reddit = praw.Reddit('xkcd_bot', user_agent = 'web:xkcd-explain-bot:v0.1 (by /u/kindw)')\n",
    "    print('Authenticated as {}\\n'.format(reddit.user.me()))\n",
    "    return reddit"
   ]
  },
  {
   "cell_type": "code",
   "execution_count": null,
   "metadata": {
    "collapsed": true
   },
   "outputs": [],
   "source": [
    "def fetchdata(url):\n",
    "    r = requests.get(url)\n",
    "    soup = BeautifulSoup(r.content, 'html.parser')\n",
    "\n",
    "    tag = soup.find('p')\n",
    "    data = ''\n",
    "    while True:\n",
    "        if isinstance(tag, bs4.element.Tag):\n",
    "            if (tag.name == 'h2'):\n",
    "                break\n",
    "            if (tag.name == 'h3'):\n",
    "                tag = tag.nextSibling\n",
    "            else:\n",
    "                data = data + '\\n' + tag.text\n",
    "                tag = tag.nextSibling\n",
    "        else:\n",
    "            tag = tag.nextSibling\n",
    "    \n",
    "    return data"
   ]
  },
  {
   "cell_type": "code",
   "execution_count": null,
   "metadata": {
    "collapsed": true
   },
   "outputs": [],
   "source": [
    "def run_explainbot(reddit):\n",
    "    \n",
    "    print(\"Getting 250 comments...\\n\")\n",
    "    \n",
    "    for comment in reddit.subreddit('test').comments(limit = 250):\n",
    "        match = re.findall(\"[a-z]*[A-Z]*[0-9]*https://www.xkcd.com/[0-9]+\", comment.body)\n",
    "        if match:\n",
    "            print(\"Link found in comment with comment ID: \" + comment.id)\n",
    "            xkcd_url = match[0]\n",
    "            url_obj = urlparse(xkcd_url)\n",
    "            xkcd_id = int((url_obj.path.strip(\"/\")))\n",
    "            myurl = 'http://www.explainxkcd.com/wiki/index.php/' + str(xkcd_id)\n",
    "            \n",
    "            file_obj_r = open(path,'r')\n",
    "                        \n",
    "            try:\n",
    "                explanation = fetchdata(myurl)\n",
    "            except:\n",
    "                print('Exception!!! Possibly incorrect xkcd URL...\\n')\n",
    "                # Typical cause for this will be a URL for an xkcd that does not exist (Example: https://www.xkcd.com/772524318/)\n",
    "            else:\n",
    "                if comment.id not in file_obj_r.read().splitlines():\n",
    "                    print('Link is unique...posting explanation\\n')\n",
    "                    comment.reply(header + explanation + footer)\n",
    "                    \n",
    "                    file_obj_r.close()\n",
    "\n",
    "                    file_obj_w = open(path,'a+')\n",
    "                    file_obj_w.write(comment.id + '\\n')\n",
    "                    file_obj_w.close()\n",
    "                else:\n",
    "                    print('Already visited link...no reply needed\\n')\n",
    "            \n",
    "            time.sleep(10)\n",
    "\n",
    "    print('Waiting 60 seconds...\\n')\n",
    "    time.sleep(60)"
   ]
  },
  {
   "cell_type": "code",
   "execution_count": null,
   "metadata": {},
   "outputs": [],
   "source": [
    "def main():\n",
    "    reddit = authenticate()\n",
    "    while True:\n",
    "        run_explainbot(reddit)\n",
    "\n",
    "\n",
    "if __name__ == '__main__':\n",
    "    main()"
   ]
  }
 ],
 "metadata": {
  "anaconda-cloud": {},
  "kernelspec": {
   "display_name": "Python [conda root]",
   "language": "python",
   "name": "conda-root-py"
  },
  "language_info": {
   "codemirror_mode": {
    "name": "ipython",
    "version": 3
   },
   "file_extension": ".py",
   "mimetype": "text/x-python",
   "name": "python",
   "nbconvert_exporter": "python",
   "pygments_lexer": "ipython3",
   "version": "3.5.2"
  }
 },
 "nbformat": 4,
 "nbformat_minor": 2
}
